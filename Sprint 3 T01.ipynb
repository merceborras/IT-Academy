{
 "cells": [
  {
   "cell_type": "code",
   "execution_count": 6,
   "id": "33696d19",
   "metadata": {},
   "outputs": [
    {
     "name": "stdout",
     "output_type": "stream",
     "text": [
      "[1 2 3 4 5]\n",
      "1\n"
     ]
    }
   ],
   "source": [
    "import numpy as np\n"
   ]
  },
  {
   "cell_type": "code",
   "execution_count": 7,
   "id": "4f861d30",
   "metadata": {},
   "outputs": [
    {
     "name": "stdout",
     "output_type": "stream",
     "text": [
      "[1 2 3 4 5]\n",
      "1\n"
     ]
    }
   ],
   "source": [
    "#Exercici 1\n",
    "arr = np.array([1, 2, 3, 4, 5])\n",
    "print(arr)\n",
    "print(arr.ndim)"
   ]
  },
  {
   "cell_type": "code",
   "execution_count": 16,
   "id": "11b4720b",
   "metadata": {},
   "outputs": [
    {
     "name": "stdout",
     "output_type": "stream",
     "text": [
      "[[ 1 63 15 45 60]\n",
      " [62 91 41 15 20]\n",
      " [48 81 52 85 69]\n",
      " [74  1 98 59  0]\n",
      " [15 76 46  0  2]]\n"
     ]
    }
   ],
   "source": [
    "#Exercici 2\n",
    "array2 = np.random.randint(100, size=(5, 5))\n",
    "print(array2)\n"
   ]
  },
  {
   "cell_type": "code",
   "execution_count": 30,
   "id": "9aa01310",
   "metadata": {},
   "outputs": [
    {
     "name": "stdout",
     "output_type": "stream",
     "text": [
      "[[12  0 19]\n",
      " [17 17 18]\n",
      " [ 7 11 12]\n",
      " [19 13 13]]\n"
     ]
    }
   ],
   "source": [
    "#Exercici 3\n",
    "array3 = np.random.randint(20, size=(4, 3))\n",
    "print(array3)"
   ]
  },
  {
   "cell_type": "code",
   "execution_count": 29,
   "id": "14c19646",
   "metadata": {},
   "outputs": [
    {
     "data": {
      "text/plain": [
       "array([22, 29,  7, 21])"
      ]
     },
     "execution_count": 29,
     "metadata": {},
     "output_type": "execute_result"
    }
   ],
   "source": [
    "array3.sum(axis=1)"
   ]
  },
  {
   "cell_type": "code",
   "execution_count": 31,
   "id": "5131014e",
   "metadata": {},
   "outputs": [
    {
     "data": {
      "text/plain": [
       "array([55, 41, 62])"
      ]
     },
     "execution_count": 31,
     "metadata": {},
     "output_type": "execute_result"
    }
   ],
   "source": [
    "array3.sum(axis=0)"
   ]
  },
  {
   "cell_type": "code",
   "execution_count": 35,
   "id": "1a35add3",
   "metadata": {},
   "outputs": [
    {
     "data": {
      "text/plain": [
       "array([[1.        , 0.41749225],\n",
       "       [0.41749225, 1.        ]])"
      ]
     },
     "execution_count": 35,
     "metadata": {},
     "output_type": "execute_result"
    }
   ],
   "source": [
    "#Exercici 4\n",
    "import numpy as np\n",
    "\n",
    "np.random.seed(10)\n",
    "var1 = np.random.randint(0, 5, 8)\n",
    "var2 = var1 + np.random.normal(0, 5, 8)\n",
    "np.corrcoef(var1, var2)"
   ]
  },
  {
   "cell_type": "code",
   "execution_count": null,
   "id": "b5cefeb9",
   "metadata": {},
   "outputs": [],
   "source": []
  }
 ],
 "metadata": {
  "kernelspec": {
   "display_name": "Python 3 (ipykernel)",
   "language": "python",
   "name": "python3"
  },
  "language_info": {
   "codemirror_mode": {
    "name": "ipython",
    "version": 3
   },
   "file_extension": ".py",
   "mimetype": "text/x-python",
   "name": "python",
   "nbconvert_exporter": "python",
   "pygments_lexer": "ipython3",
   "version": "3.9.13"
  }
 },
 "nbformat": 4,
 "nbformat_minor": 5
}
