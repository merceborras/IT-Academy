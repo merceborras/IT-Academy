{
 "cells": [
  {
   "cell_type": "code",
   "execution_count": 28,
   "id": "8189e4e4",
   "metadata": {},
   "outputs": [
    {
     "name": "stdout",
     "output_type": "stream",
     "text": [
      "[['gener', 'febrer', 'març'], ['abril', 'maig', 'juny'], ['juliol', 'agost', 'setembre'], ['octubre', 'novembre', 'desembre']]\n"
     ]
    }
   ],
   "source": [
    "#Exercici 1\n",
    "llista = []\n",
    "llista.append(['gener', 'febrer','març'])\n",
    "llista.append(['abril','maig','juny'])\n",
    "llista.append(['juliol','agost', 'setembre'])\n",
    "llista.append(['octubre','novembre', 'desembre'])\n",
    "print (llista)"
   ]
  },
  {
   "cell_type": "code",
   "execution_count": 29,
   "id": "2c5d97a6",
   "metadata": {},
   "outputs": [
    {
     "data": {
      "text/plain": [
       "[['gener', 'febrer', 'març']]"
      ]
     },
     "execution_count": 29,
     "metadata": {},
     "output_type": "execute_result"
    }
   ],
   "source": [
    "#Exercici 2\n",
    "llista [0:1]\n",
    "\n"
   ]
  },
  {
   "cell_type": "code",
   "execution_count": 115,
   "id": "991f2d72",
   "metadata": {},
   "outputs": [
    {
     "data": {
      "text/plain": [
       "13"
      ]
     },
     "execution_count": 115,
     "metadata": {},
     "output_type": "execute_result"
    }
   ],
   "source": [
    "#Exercici 3\n",
    "llista2 = [2,4,66,4,1,2,3,13,1,3,6,4,5]\n",
    "#Quants números hi ha?\n",
    "(len(llista2))"
   ]
  },
  {
   "cell_type": "code",
   "execution_count": 104,
   "id": "79b16b31",
   "metadata": {},
   "outputs": [
    {
     "data": {
      "text/plain": [
       "2"
      ]
     },
     "execution_count": 104,
     "metadata": {},
     "output_type": "execute_result"
    }
   ],
   "source": [
    "#Quantes vegades apareix el número 3\n",
    "llista2.count(3)"
   ]
  },
  {
   "cell_type": "code",
   "execution_count": 124,
   "id": "7f1eeeb3",
   "metadata": {},
   "outputs": [
    {
     "name": "stdout",
     "output_type": "stream",
     "text": [
      "Counter({4: 3, 2: 2, 1: 2, 3: 2, 66: 1, 13: 1, 6: 1, 5: 1})\n"
     ]
    }
   ],
   "source": [
    "#Quantes vegades apareixen els nombres 3 i 4?\n",
    "from collections import Counter\n",
    "repeticions = Counter(llista2)\n",
    "print(repeticions)"
   ]
  },
  {
   "cell_type": "code",
   "execution_count": 125,
   "id": "19bda72e",
   "metadata": {},
   "outputs": [
    {
     "name": "stdout",
     "output_type": "stream",
     "text": [
      "66\n"
     ]
    }
   ],
   "source": [
    "#Quin és el número més gran?\n",
    "print(max(llista2))"
   ]
  },
  {
   "cell_type": "code",
   "execution_count": 126,
   "id": "845a841f",
   "metadata": {},
   "outputs": [
    {
     "name": "stdout",
     "output_type": "stream",
     "text": [
      "[1, 1, 2]\n"
     ]
    }
   ],
   "source": [
    "#Quins són els 3 números més petits?\n",
    "llista2.sort()  \n",
    "llista2\n",
    "petits = llista2[:3]  \n",
    "print (petits)"
   ]
  },
  {
   "cell_type": "code",
   "execution_count": 127,
   "id": "6e9740d3",
   "metadata": {},
   "outputs": [
    {
     "name": "stdout",
     "output_type": "stream",
     "text": [
      "2\n",
      "4\n",
      "66\n",
      "4\n",
      "3\n",
      "1\n",
      "2\n",
      "3\n",
      "13\n",
      "1\n",
      "3\n",
      "6\n"
     ]
    }
   ],
   "source": [
    "#Quin és el rang d’aquesta llista?\n",
    "llista2 = [2,4,66,4,3,1,2,3,13,1,3,6]\n",
    "for i in range(len(llista2)):\n",
    " print(llista2[i])"
   ]
  },
  {
   "cell_type": "code",
   "execution_count": 27,
   "id": "4a649e85",
   "metadata": {},
   "outputs": [
    {
     "name": "stdout",
     "output_type": "stream",
     "text": [
      "{'Pomes': {'Qty': 5, '€': 0.42}, 'Peres': {'Qty': 3, '€': 0.66}}\n"
     ]
    }
   ],
   "source": [
    "#Exercici 4\n",
    "compra = {}\n",
    "compra = { \"Pomes\" : {\"Qty\": 5, \"€\": 0.42}, \"Peres\" : {\"Qty\": 3, \"€\": 0.66} }\n",
    "print(compra)"
   ]
  },
  {
   "cell_type": "code",
   "execution_count": 28,
   "id": "fff31c79",
   "metadata": {},
   "outputs": [
    {
     "name": "stdout",
     "output_type": "stream",
     "text": [
      "{'Pomes': {'Qty': 5, '€': 0.42}, 'Peres': {'Qty': 3, '€': 0.66}, 'Raïm': {'Qty': 4, '€': 0.8}}\n"
     ]
    }
   ],
   "source": [
    "compra[\"Raïm\"] = {\"Qty\": 4, \"€\": 0.80}\n",
    "print(compra)"
   ]
  },
  {
   "cell_type": "code",
   "execution_count": 36,
   "id": "52d38921",
   "metadata": {},
   "outputs": [
    {
     "ename": "SyntaxError",
     "evalue": "invalid syntax (2638316915.py, line 1)",
     "output_type": "error",
     "traceback": [
      "\u001b[0;36m  File \u001b[0;32m\"/var/folders/ny/spz9f0fn001_1gwmfgknmnlm0000gp/T/ipykernel_55046/2638316915.py\"\u001b[0;36m, line \u001b[0;32m1\u001b[0m\n\u001b[0;31m    total = {key: 0.66*3[key] for key'Qty': 3, '€': 0.66 in compra.items()}\u001b[0m\n\u001b[0m                                     ^\u001b[0m\n\u001b[0;31mSyntaxError\u001b[0m\u001b[0;31m:\u001b[0m invalid syntax\n"
     ]
    }
   ],
   "source": [
    "total = {key: 0.66*3[key] for key,'Qty': 3, '€': 0.66 in compra.items()}"
   ]
  },
  {
   "cell_type": "code",
   "execution_count": null,
   "id": "2fe085a4",
   "metadata": {},
   "outputs": [],
   "source": []
  }
 ],
 "metadata": {
  "kernelspec": {
   "display_name": "Python 3 (ipykernel)",
   "language": "python",
   "name": "python3"
  },
  "language_info": {
   "codemirror_mode": {
    "name": "ipython",
    "version": 3
   },
   "file_extension": ".py",
   "mimetype": "text/x-python",
   "name": "python",
   "nbconvert_exporter": "python",
   "pygments_lexer": "ipython3",
   "version": "3.9.13"
  }
 },
 "nbformat": 4,
 "nbformat_minor": 5
}
