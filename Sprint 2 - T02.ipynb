{
 "cells": [
  {
   "cell_type": "code",
   "execution_count": 10,
   "id": "2ce76b83",
   "metadata": {},
   "outputs": [
    {
     "name": "stdout",
     "output_type": "stream",
     "text": [
      "Notes5\n",
      "Aprovat\n"
     ]
    }
   ],
   "source": [
    "#Exercici 1\n",
    "x = int(input(\"Notes\"))\n",
    "if(x>=9):\n",
    "    print(\"Excel·lent\")\n",
    "elif(7<=x<9):\n",
    "    print(\"Notable\")\n",
    "elif(5<=x<=7):\n",
    "    print(\"Aprovat\")\n",
    "elif(x<5):\n",
    "    print(\"Suspès\")"
   ]
  },
  {
   "cell_type": "code",
   "execution_count": 27,
   "id": "f93903e9",
   "metadata": {},
   "outputs": [
    {
     "name": "stdout",
     "output_type": "stream",
     "text": [
      "Escriu num 1:3\n",
      "Escriu num 2:4\n",
      "El segon nombre és més gran\n"
     ]
    }
   ],
   "source": [
    "#Exercici 2\n",
    "num1 = int(input('Escriu num 1:'))\n",
    "num2 = int(input('Escriu num 2:'))\n",
    "if num1 == num2:\n",
    "    print ('Els dos nombres són iguals')\n",
    "elif num1 > num2:\n",
    "    print ('El primer nombre és més gran')\n",
    "elif num1 < num2:\n",
    "    print ('El segon nombre és més gran')"
   ]
  },
  {
   "cell_type": "code",
   "execution_count": 5,
   "id": "8689c75a",
   "metadata": {
    "scrolled": false
   },
   "outputs": [
    {
     "name": "stdout",
     "output_type": "stream",
     "text": [
      "Com et dius?Mercè\n",
      "Escriu un num:2\n",
      "MercèMercè\n"
     ]
    }
   ],
   "source": [
    "#Exercici 3\n",
    "nom = input('Com et dius?')\n",
    "nre = int(input('Escriu un num:'))\n",
    "print (nre*nom)"
   ]
  },
  {
   "cell_type": "code",
   "execution_count": 22,
   "id": "4f4384d0",
   "metadata": {},
   "outputs": [
    {
     "name": "stdout",
     "output_type": "stream",
     "text": [
      "11111 La llista no és simètrica\n"
     ]
    }
   ],
   "source": [
    "#Exercici 4\n",
    "llista = '11111'\n",
    "half = int(len(llista) / 2)\n",
    "\n",
    "primer_str = llista[:half]\n",
    "segon_str = llista[half:]\n",
    "\n",
    "if primer_str == segon_str:\n",
    "    print(llista, 'La llista és simètrica')\n",
    "else:\n",
    "    print(llista, 'La llista no és simètrica')"
   ]
  },
  {
   "cell_type": "code",
   "execution_count": 11,
   "id": "746a4463",
   "metadata": {},
   "outputs": [
    {
     "name": "stdout",
     "output_type": "stream",
     "text": [
      "La llista : [2, 5, 2, 8, 4, 7, 6]\n",
      "Elements coincidents : [2, 4, 6]\n"
     ]
    }
   ],
   "source": [
    "#Exercici 5\n",
    "llista = [2,5,2,8,4,7,6]\n",
    "print(\"La llista : \" + str(llista))\n",
    "resultat = [element for index, element in enumerate(llista) if index == element]\n",
    "print(\"Elements coincidents : \" + str(resultat))"
   ]
  },
  {
   "cell_type": "code",
   "execution_count": null,
   "id": "94598101",
   "metadata": {},
   "outputs": [],
   "source": [
    "\n",
    " \n",
    "\n",
    " \n"
   ]
  }
 ],
 "metadata": {
  "kernelspec": {
   "display_name": "Python 3 (ipykernel)",
   "language": "python",
   "name": "python3"
  },
  "language_info": {
   "codemirror_mode": {
    "name": "ipython",
    "version": 3
   },
   "file_extension": ".py",
   "mimetype": "text/x-python",
   "name": "python",
   "nbconvert_exporter": "python",
   "pygments_lexer": "ipython3",
   "version": "3.9.13"
  }
 },
 "nbformat": 4,
 "nbformat_minor": 5
}
